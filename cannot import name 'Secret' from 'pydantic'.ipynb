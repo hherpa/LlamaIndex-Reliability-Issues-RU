{
 "cells": [
  {
   "cell_type": "markdown",
   "id": "e42ea7ec",
   "metadata": {},
   "source": [
    "### docs link: https://llamahub.ai/l/llms/llama-index-llms-fireworks?from=llms"
   ]
  },
  {
   "cell_type": "code",
   "execution_count": 31,
   "id": "74c915fd",
   "metadata": {
    "scrolled": true
   },
   "outputs": [
    {
     "name": "stdout",
     "output_type": "stream",
     "text": [
      "Defaulting to user installation because normal site-packages is not writeable\n",
      "Collecting llama-index-llms-fireworks\n",
      "  Using cached llama_index_llms_fireworks-0.2.2-py3-none-any.whl.metadata (3.6 kB)\n",
      "Requirement already satisfied: llama-index-core<0.12.0,>=0.11.0 in c:\\users\\akidra\\appdata\\roaming\\python\\python311\\site-packages (from llama-index-llms-fireworks) (0.11.21)\n",
      "Requirement already satisfied: llama-index-llms-openai<0.3.0,>=0.2.0 in c:\\users\\akidra\\appdata\\roaming\\python\\python311\\site-packages (from llama-index-llms-fireworks) (0.2.16)\n",
      "Requirement already satisfied: PyYAML>=6.0.1 in c:\\users\\akidra\\appdata\\roaming\\python\\python311\\site-packages (from llama-index-core<0.12.0,>=0.11.0->llama-index-llms-fireworks) (6.0.1)\n",
      "Requirement already satisfied: SQLAlchemy>=1.4.49 in c:\\users\\akidra\\appdata\\roaming\\python\\python311\\site-packages (from SQLAlchemy[asyncio]>=1.4.49->llama-index-core<0.12.0,>=0.11.0->llama-index-llms-fireworks) (2.0.23)\n",
      "Requirement already satisfied: aiohttp<4.0.0,>=3.8.6 in c:\\users\\akidra\\appdata\\roaming\\python\\python311\\site-packages (from llama-index-core<0.12.0,>=0.11.0->llama-index-llms-fireworks) (3.9.1)\n",
      "Requirement already satisfied: dataclasses-json in c:\\users\\akidra\\appdata\\roaming\\python\\python311\\site-packages (from llama-index-core<0.12.0,>=0.11.0->llama-index-llms-fireworks) (0.6.3)\n",
      "Requirement already satisfied: deprecated>=1.2.9.3 in c:\\users\\akidra\\appdata\\roaming\\python\\python311\\site-packages (from llama-index-core<0.12.0,>=0.11.0->llama-index-llms-fireworks) (1.2.14)\n",
      "Requirement already satisfied: dirtyjson<2.0.0,>=1.0.8 in c:\\users\\akidra\\appdata\\roaming\\python\\python311\\site-packages (from llama-index-core<0.12.0,>=0.11.0->llama-index-llms-fireworks) (1.0.8)\n",
      "Requirement already satisfied: fsspec>=2023.5.0 in c:\\users\\akidra\\appdata\\roaming\\python\\python311\\site-packages (from llama-index-core<0.12.0,>=0.11.0->llama-index-llms-fireworks) (2023.10.0)\n",
      "Requirement already satisfied: httpx in c:\\users\\akidra\\appdata\\roaming\\python\\python311\\site-packages (from llama-index-core<0.12.0,>=0.11.0->llama-index-llms-fireworks) (0.25.2)\n",
      "Requirement already satisfied: nest-asyncio<2.0.0,>=1.5.8 in c:\\users\\akidra\\appdata\\roaming\\python\\python311\\site-packages (from llama-index-core<0.12.0,>=0.11.0->llama-index-llms-fireworks) (1.5.8)\n",
      "Requirement already satisfied: networkx>=3.0 in c:\\users\\akidra\\appdata\\roaming\\python\\python311\\site-packages (from llama-index-core<0.12.0,>=0.11.0->llama-index-llms-fireworks) (3.0)\n",
      "Requirement already satisfied: nltk>3.8.1 in c:\\users\\akidra\\appdata\\roaming\\python\\python311\\site-packages (from llama-index-core<0.12.0,>=0.11.0->llama-index-llms-fireworks) (3.9.1)\n",
      "Requirement already satisfied: numpy<2.0.0 in c:\\users\\akidra\\appdata\\roaming\\python\\python311\\site-packages (from llama-index-core<0.12.0,>=0.11.0->llama-index-llms-fireworks) (1.26.2)\n",
      "Requirement already satisfied: pillow>=9.0.0 in c:\\users\\akidra\\appdata\\roaming\\python\\python311\\site-packages (from llama-index-core<0.12.0,>=0.11.0->llama-index-llms-fireworks) (10.1.0)\n",
      "Requirement already satisfied: pydantic<3.0.0,>=2.7.0 in c:\\users\\akidra\\appdata\\roaming\\python\\python311\\site-packages (from llama-index-core<0.12.0,>=0.11.0->llama-index-llms-fireworks) (2.7.1)\n",
      "Requirement already satisfied: requests>=2.31.0 in c:\\users\\akidra\\appdata\\roaming\\python\\python311\\site-packages (from llama-index-core<0.12.0,>=0.11.0->llama-index-llms-fireworks) (2.31.0)\n",
      "Requirement already satisfied: tenacity!=8.4.0,<9.0.0,>=8.2.0 in c:\\users\\akidra\\appdata\\roaming\\python\\python311\\site-packages (from llama-index-core<0.12.0,>=0.11.0->llama-index-llms-fireworks) (8.2.3)\n",
      "Requirement already satisfied: tiktoken>=0.3.3 in c:\\users\\akidra\\appdata\\roaming\\python\\python311\\site-packages (from llama-index-core<0.12.0,>=0.11.0->llama-index-llms-fireworks) (0.5.2)\n",
      "Requirement already satisfied: tqdm<5.0.0,>=4.66.1 in c:\\users\\akidra\\appdata\\roaming\\python\\python311\\site-packages (from llama-index-core<0.12.0,>=0.11.0->llama-index-llms-fireworks) (4.66.1)\n",
      "Requirement already satisfied: typing-extensions>=4.5.0 in c:\\users\\akidra\\appdata\\roaming\\python\\python311\\site-packages (from llama-index-core<0.12.0,>=0.11.0->llama-index-llms-fireworks) (4.12.2)\n",
      "Requirement already satisfied: typing-inspect>=0.8.0 in c:\\users\\akidra\\appdata\\roaming\\python\\python311\\site-packages (from llama-index-core<0.12.0,>=0.11.0->llama-index-llms-fireworks) (0.9.0)\n",
      "Requirement already satisfied: wrapt in c:\\users\\akidra\\appdata\\roaming\\python\\python311\\site-packages (from llama-index-core<0.12.0,>=0.11.0->llama-index-llms-fireworks) (1.14.1)\n",
      "Requirement already satisfied: openai<2.0.0,>=1.40.0 in c:\\users\\akidra\\appdata\\roaming\\python\\python311\\site-packages (from llama-index-llms-openai<0.3.0,>=0.2.0->llama-index-llms-fireworks) (1.53.0)\n",
      "Requirement already satisfied: attrs>=17.3.0 in c:\\users\\akidra\\appdata\\roaming\\python\\python311\\site-packages (from aiohttp<4.0.0,>=3.8.6->llama-index-core<0.12.0,>=0.11.0->llama-index-llms-fireworks) (22.2.0)\n",
      "Requirement already satisfied: multidict<7.0,>=4.5 in c:\\users\\akidra\\appdata\\roaming\\python\\python311\\site-packages (from aiohttp<4.0.0,>=3.8.6->llama-index-core<0.12.0,>=0.11.0->llama-index-llms-fireworks) (6.0.4)\n",
      "Requirement already satisfied: yarl<2.0,>=1.0 in c:\\users\\akidra\\appdata\\roaming\\python\\python311\\site-packages (from aiohttp<4.0.0,>=3.8.6->llama-index-core<0.12.0,>=0.11.0->llama-index-llms-fireworks) (1.9.4)\n",
      "Requirement already satisfied: frozenlist>=1.1.1 in c:\\users\\akidra\\appdata\\roaming\\python\\python311\\site-packages (from aiohttp<4.0.0,>=3.8.6->llama-index-core<0.12.0,>=0.11.0->llama-index-llms-fireworks) (1.4.0)\n",
      "Requirement already satisfied: aiosignal>=1.1.2 in c:\\users\\akidra\\appdata\\roaming\\python\\python311\\site-packages (from aiohttp<4.0.0,>=3.8.6->llama-index-core<0.12.0,>=0.11.0->llama-index-llms-fireworks) (1.3.1)\n",
      "Requirement already satisfied: click in c:\\users\\akidra\\appdata\\roaming\\python\\python311\\site-packages (from nltk>3.8.1->llama-index-core<0.12.0,>=0.11.0->llama-index-llms-fireworks) (8.1.7)\n",
      "Requirement already satisfied: joblib in c:\\users\\akidra\\appdata\\roaming\\python\\python311\\site-packages (from nltk>3.8.1->llama-index-core<0.12.0,>=0.11.0->llama-index-llms-fireworks) (1.3.2)\n",
      "Requirement already satisfied: regex>=2021.8.3 in c:\\users\\akidra\\appdata\\roaming\\python\\python311\\site-packages (from nltk>3.8.1->llama-index-core<0.12.0,>=0.11.0->llama-index-llms-fireworks) (2023.10.3)\n",
      "Requirement already satisfied: anyio<5,>=3.5.0 in c:\\users\\akidra\\appdata\\roaming\\python\\python311\\site-packages (from openai<2.0.0,>=1.40.0->llama-index-llms-openai<0.3.0,>=0.2.0->llama-index-llms-fireworks) (4.6.2.post1)\n",
      "Requirement already satisfied: distro<2,>=1.7.0 in c:\\users\\akidra\\appdata\\roaming\\python\\python311\\site-packages (from openai<2.0.0,>=1.40.0->llama-index-llms-openai<0.3.0,>=0.2.0->llama-index-llms-fireworks) (1.8.0)\n",
      "Requirement already satisfied: jiter<1,>=0.4.0 in c:\\users\\akidra\\appdata\\roaming\\python\\python311\\site-packages (from openai<2.0.0,>=1.40.0->llama-index-llms-openai<0.3.0,>=0.2.0->llama-index-llms-fireworks) (0.7.0)\n",
      "Requirement already satisfied: sniffio in c:\\users\\akidra\\appdata\\roaming\\python\\python311\\site-packages (from openai<2.0.0,>=1.40.0->llama-index-llms-openai<0.3.0,>=0.2.0->llama-index-llms-fireworks) (1.3.0)\n",
      "Requirement already satisfied: certifi in c:\\users\\akidra\\appdata\\roaming\\python\\python311\\site-packages (from httpx->llama-index-core<0.12.0,>=0.11.0->llama-index-llms-fireworks) (2023.7.22)\n",
      "Requirement already satisfied: httpcore==1.* in c:\\users\\akidra\\appdata\\roaming\\python\\python311\\site-packages (from httpx->llama-index-core<0.12.0,>=0.11.0->llama-index-llms-fireworks) (1.0.6)\n",
      "Requirement already satisfied: idna in c:\\users\\akidra\\appdata\\roaming\\python\\python311\\site-packages (from httpx->llama-index-core<0.12.0,>=0.11.0->llama-index-llms-fireworks) (3.4)\n",
      "Requirement already satisfied: h11<0.15,>=0.13 in c:\\users\\akidra\\appdata\\roaming\\python\\python311\\site-packages (from httpcore==1.*->httpx->llama-index-core<0.12.0,>=0.11.0->llama-index-llms-fireworks) (0.14.0)\n",
      "Requirement already satisfied: annotated-types>=0.4.0 in c:\\users\\akidra\\appdata\\roaming\\python\\python311\\site-packages (from pydantic<3.0.0,>=2.7.0->llama-index-core<0.12.0,>=0.11.0->llama-index-llms-fireworks) (0.6.0)\n",
      "Requirement already satisfied: pydantic-core==2.18.2 in c:\\users\\akidra\\appdata\\roaming\\python\\python311\\site-packages (from pydantic<3.0.0,>=2.7.0->llama-index-core<0.12.0,>=0.11.0->llama-index-llms-fireworks) (2.18.2)\n",
      "Requirement already satisfied: charset-normalizer<4,>=2 in c:\\users\\akidra\\appdata\\roaming\\python\\python311\\site-packages (from requests>=2.31.0->llama-index-core<0.12.0,>=0.11.0->llama-index-llms-fireworks) (3.2.0)\n",
      "Requirement already satisfied: urllib3<3,>=1.21.1 in c:\\users\\akidra\\appdata\\roaming\\python\\python311\\site-packages (from requests>=2.31.0->llama-index-core<0.12.0,>=0.11.0->llama-index-llms-fireworks) (1.26.18)\n",
      "Requirement already satisfied: greenlet!=0.4.17 in c:\\users\\akidra\\appdata\\roaming\\python\\python311\\site-packages (from SQLAlchemy>=1.4.49->SQLAlchemy[asyncio]>=1.4.49->llama-index-core<0.12.0,>=0.11.0->llama-index-llms-fireworks) (3.0.3)\n",
      "Requirement already satisfied: colorama in c:\\users\\akidra\\appdata\\roaming\\python\\python311\\site-packages (from tqdm<5.0.0,>=4.66.1->llama-index-core<0.12.0,>=0.11.0->llama-index-llms-fireworks) (0.4.6)\n",
      "Requirement already satisfied: mypy-extensions>=0.3.0 in c:\\users\\akidra\\appdata\\roaming\\python\\python311\\site-packages (from typing-inspect>=0.8.0->llama-index-core<0.12.0,>=0.11.0->llama-index-llms-fireworks) (1.0.0)\n",
      "Requirement already satisfied: marshmallow<4.0.0,>=3.18.0 in c:\\users\\akidra\\appdata\\roaming\\python\\python311\\site-packages (from dataclasses-json->llama-index-core<0.12.0,>=0.11.0->llama-index-llms-fireworks) (3.20.1)\n",
      "Requirement already satisfied: packaging>=17.0 in c:\\users\\akidra\\appdata\\roaming\\python\\python311\\site-packages (from marshmallow<4.0.0,>=3.18.0->dataclasses-json->llama-index-core<0.12.0,>=0.11.0->llama-index-llms-fireworks) (23.2)\n",
      "Using cached llama_index_llms_fireworks-0.2.2-py3-none-any.whl (5.4 kB)\n",
      "Installing collected packages: llama-index-llms-fireworks\n",
      "Successfully installed llama-index-llms-fireworks-0.2.2\n",
      "Note: you may need to restart the kernel to use updated packages.\n"
     ]
    },
    {
     "name": "stderr",
     "output_type": "stream",
     "text": [
      "\n",
      "[notice] A new release of pip is available: 24.0 -> 24.3.1\n",
      "[notice] To update, run: python.exe -m pip install --upgrade pip\n"
     ]
    },
    {
     "name": "stdout",
     "output_type": "stream",
     "text": [
      "Defaulting to user installation because normal site-packages is not writeableNote: you may need to restart the kernel to use updated packages.\n"
     ]
    },
    {
     "name": "stderr",
     "output_type": "stream",
     "text": [
      "  WARNING: The script llamaindex-cli.exe is installed in 'C:\\Users\\akidra\\AppData\\Roaming\\Python\\Python311\\Scripts' which is not on PATH.\n",
      "  Consider adding this directory to PATH or, if you prefer to suppress this warning, use --no-warn-script-location.\n",
      "ERROR: pip's dependency resolver does not currently take into account all the packages that are installed. This behaviour is the source of the following dependency conflicts.\n",
      "pymemgpt 0.2.10 requires llama-index<0.10.0,>=0.9.13, but you have llama-index 0.11.20 which is incompatible.\n",
      "pymemgpt 0.2.10 requires pypdf<4.0.0,>=3.17.1, but you have pypdf 4.3.1 which is incompatible.\n",
      "pymemgpt 0.2.10 requires typer[all]<0.10.0,>=0.9.0, but you have typer 0.12.5 which is incompatible.\n",
      "\n",
      "[notice] A new release of pip is available: 24.0 -> 24.3.1\n",
      "[notice] To update, run: python.exe -m pip install --upgrade pip\n"
     ]
    },
    {
     "name": "stdout",
     "output_type": "stream",
     "text": [
      "\n",
      "Collecting llama-index\n",
      "  Using cached llama_index-0.11.20-py3-none-any.whl.metadata (11 kB)\n",
      "Requirement already satisfied: llama-index-agent-openai<0.4.0,>=0.3.4 in c:\\users\\akidra\\appdata\\roaming\\python\\python311\\site-packages (from llama-index) (0.3.4)\n",
      "Requirement already satisfied: llama-index-cli<0.4.0,>=0.3.1 in c:\\users\\akidra\\appdata\\roaming\\python\\python311\\site-packages (from llama-index) (0.3.1)\n",
      "Requirement already satisfied: llama-index-core<0.12.0,>=0.11.20 in c:\\users\\akidra\\appdata\\roaming\\python\\python311\\site-packages (from llama-index) (0.11.21)\n",
      "Requirement already satisfied: llama-index-embeddings-openai<0.3.0,>=0.2.4 in c:\\users\\akidra\\appdata\\roaming\\python\\python311\\site-packages (from llama-index) (0.2.5)\n",
      "Requirement already satisfied: llama-index-indices-managed-llama-cloud>=0.3.0 in c:\\users\\akidra\\appdata\\roaming\\python\\python311\\site-packages (from llama-index) (0.4.0)\n",
      "Requirement already satisfied: llama-index-legacy<0.10.0,>=0.9.48 in c:\\users\\akidra\\appdata\\roaming\\python\\python311\\site-packages (from llama-index) (0.9.48.post3)\n",
      "Requirement already satisfied: llama-index-llms-openai<0.3.0,>=0.2.10 in c:\\users\\akidra\\appdata\\roaming\\python\\python311\\site-packages (from llama-index) (0.2.16)\n",
      "Requirement already satisfied: llama-index-multi-modal-llms-openai<0.3.0,>=0.2.0 in c:\\users\\akidra\\appdata\\roaming\\python\\python311\\site-packages (from llama-index) (0.2.3)\n",
      "Requirement already satisfied: llama-index-program-openai<0.3.0,>=0.2.0 in c:\\users\\akidra\\appdata\\roaming\\python\\python311\\site-packages (from llama-index) (0.2.0)\n",
      "Requirement already satisfied: llama-index-question-gen-openai<0.3.0,>=0.2.0 in c:\\users\\akidra\\appdata\\roaming\\python\\python311\\site-packages (from llama-index) (0.2.0)\n",
      "Requirement already satisfied: llama-index-readers-file<0.3.0,>=0.2.0 in c:\\users\\akidra\\appdata\\roaming\\python\\python311\\site-packages (from llama-index) (0.2.2)\n",
      "Requirement already satisfied: llama-index-readers-llama-parse>=0.3.0 in c:\\users\\akidra\\appdata\\roaming\\python\\python311\\site-packages (from llama-index) (0.3.0)\n",
      "Requirement already satisfied: nltk>3.8.1 in c:\\users\\akidra\\appdata\\roaming\\python\\python311\\site-packages (from llama-index) (3.9.1)\n",
      "Requirement already satisfied: openai>=1.14.0 in c:\\users\\akidra\\appdata\\roaming\\python\\python311\\site-packages (from llama-index-agent-openai<0.4.0,>=0.3.4->llama-index) (1.53.0)\n",
      "Requirement already satisfied: PyYAML>=6.0.1 in c:\\users\\akidra\\appdata\\roaming\\python\\python311\\site-packages (from llama-index-core<0.12.0,>=0.11.20->llama-index) (6.0.1)\n",
      "Requirement already satisfied: SQLAlchemy>=1.4.49 in c:\\users\\akidra\\appdata\\roaming\\python\\python311\\site-packages (from SQLAlchemy[asyncio]>=1.4.49->llama-index-core<0.12.0,>=0.11.20->llama-index) (2.0.23)\n",
      "Requirement already satisfied: aiohttp<4.0.0,>=3.8.6 in c:\\users\\akidra\\appdata\\roaming\\python\\python311\\site-packages (from llama-index-core<0.12.0,>=0.11.20->llama-index) (3.9.1)\n",
      "Requirement already satisfied: dataclasses-json in c:\\users\\akidra\\appdata\\roaming\\python\\python311\\site-packages (from llama-index-core<0.12.0,>=0.11.20->llama-index) (0.6.3)\n",
      "Requirement already satisfied: deprecated>=1.2.9.3 in c:\\users\\akidra\\appdata\\roaming\\python\\python311\\site-packages (from llama-index-core<0.12.0,>=0.11.20->llama-index) (1.2.14)\n",
      "Requirement already satisfied: dirtyjson<2.0.0,>=1.0.8 in c:\\users\\akidra\\appdata\\roaming\\python\\python311\\site-packages (from llama-index-core<0.12.0,>=0.11.20->llama-index) (1.0.8)\n",
      "Requirement already satisfied: fsspec>=2023.5.0 in c:\\users\\akidra\\appdata\\roaming\\python\\python311\\site-packages (from llama-index-core<0.12.0,>=0.11.20->llama-index) (2023.10.0)\n",
      "Requirement already satisfied: httpx in c:\\users\\akidra\\appdata\\roaming\\python\\python311\\site-packages (from llama-index-core<0.12.0,>=0.11.20->llama-index) (0.25.2)\n",
      "Requirement already satisfied: nest-asyncio<2.0.0,>=1.5.8 in c:\\users\\akidra\\appdata\\roaming\\python\\python311\\site-packages (from llama-index-core<0.12.0,>=0.11.20->llama-index) (1.5.8)\n",
      "Requirement already satisfied: networkx>=3.0 in c:\\users\\akidra\\appdata\\roaming\\python\\python311\\site-packages (from llama-index-core<0.12.0,>=0.11.20->llama-index) (3.0)\n",
      "Requirement already satisfied: numpy<2.0.0 in c:\\users\\akidra\\appdata\\roaming\\python\\python311\\site-packages (from llama-index-core<0.12.0,>=0.11.20->llama-index) (1.26.2)\n",
      "Requirement already satisfied: pillow>=9.0.0 in c:\\users\\akidra\\appdata\\roaming\\python\\python311\\site-packages (from llama-index-core<0.12.0,>=0.11.20->llama-index) (10.1.0)\n",
      "Requirement already satisfied: pydantic<3.0.0,>=2.7.0 in c:\\users\\akidra\\appdata\\roaming\\python\\python311\\site-packages (from llama-index-core<0.12.0,>=0.11.20->llama-index) (2.7.1)\n",
      "Requirement already satisfied: requests>=2.31.0 in c:\\users\\akidra\\appdata\\roaming\\python\\python311\\site-packages (from llama-index-core<0.12.0,>=0.11.20->llama-index) (2.31.0)\n",
      "Requirement already satisfied: tenacity!=8.4.0,<9.0.0,>=8.2.0 in c:\\users\\akidra\\appdata\\roaming\\python\\python311\\site-packages (from llama-index-core<0.12.0,>=0.11.20->llama-index) (8.2.3)\n",
      "Requirement already satisfied: tiktoken>=0.3.3 in c:\\users\\akidra\\appdata\\roaming\\python\\python311\\site-packages (from llama-index-core<0.12.0,>=0.11.20->llama-index) (0.5.2)\n",
      "Requirement already satisfied: tqdm<5.0.0,>=4.66.1 in c:\\users\\akidra\\appdata\\roaming\\python\\python311\\site-packages (from llama-index-core<0.12.0,>=0.11.20->llama-index) (4.66.1)\n",
      "Requirement already satisfied: typing-extensions>=4.5.0 in c:\\users\\akidra\\appdata\\roaming\\python\\python311\\site-packages (from llama-index-core<0.12.0,>=0.11.20->llama-index) (4.12.2)\n",
      "Requirement already satisfied: typing-inspect>=0.8.0 in c:\\users\\akidra\\appdata\\roaming\\python\\python311\\site-packages (from llama-index-core<0.12.0,>=0.11.20->llama-index) (0.9.0)\n",
      "Requirement already satisfied: wrapt in c:\\users\\akidra\\appdata\\roaming\\python\\python311\\site-packages (from llama-index-core<0.12.0,>=0.11.20->llama-index) (1.14.1)\n",
      "Requirement already satisfied: llama-cloud>=0.0.11 in c:\\users\\akidra\\appdata\\roaming\\python\\python311\\site-packages (from llama-index-indices-managed-llama-cloud>=0.3.0->llama-index) (0.1.4)\n",
      "Requirement already satisfied: pandas in c:\\users\\akidra\\appdata\\roaming\\python\\python311\\site-packages (from llama-index-legacy<0.10.0,>=0.9.48->llama-index) (2.1.1)\n",
      "Requirement already satisfied: beautifulsoup4<5.0.0,>=4.12.3 in c:\\users\\akidra\\appdata\\roaming\\python\\python311\\site-packages (from llama-index-readers-file<0.3.0,>=0.2.0->llama-index) (4.12.3)\n",
      "Requirement already satisfied: pypdf<5.0.0,>=4.0.1 in c:\\users\\akidra\\appdata\\roaming\\python\\python311\\site-packages (from llama-index-readers-file<0.3.0,>=0.2.0->llama-index) (4.3.1)\n",
      "Requirement already satisfied: striprtf<0.0.27,>=0.0.26 in c:\\users\\akidra\\appdata\\roaming\\python\\python311\\site-packages (from llama-index-readers-file<0.3.0,>=0.2.0->llama-index) (0.0.26)\n",
      "Requirement already satisfied: llama-parse>=0.5.0 in c:\\users\\akidra\\appdata\\roaming\\python\\python311\\site-packages (from llama-index-readers-llama-parse>=0.3.0->llama-index) (0.5.12)\n",
      "Requirement already satisfied: click in c:\\users\\akidra\\appdata\\roaming\\python\\python311\\site-packages (from nltk>3.8.1->llama-index) (8.1.7)\n",
      "Requirement already satisfied: joblib in c:\\users\\akidra\\appdata\\roaming\\python\\python311\\site-packages (from nltk>3.8.1->llama-index) (1.3.2)\n",
      "Requirement already satisfied: regex>=2021.8.3 in c:\\users\\akidra\\appdata\\roaming\\python\\python311\\site-packages (from nltk>3.8.1->llama-index) (2023.10.3)\n",
      "Requirement already satisfied: attrs>=17.3.0 in c:\\users\\akidra\\appdata\\roaming\\python\\python311\\site-packages (from aiohttp<4.0.0,>=3.8.6->llama-index-core<0.12.0,>=0.11.20->llama-index) (22.2.0)\n",
      "Requirement already satisfied: multidict<7.0,>=4.5 in c:\\users\\akidra\\appdata\\roaming\\python\\python311\\site-packages (from aiohttp<4.0.0,>=3.8.6->llama-index-core<0.12.0,>=0.11.20->llama-index) (6.0.4)\n",
      "Requirement already satisfied: yarl<2.0,>=1.0 in c:\\users\\akidra\\appdata\\roaming\\python\\python311\\site-packages (from aiohttp<4.0.0,>=3.8.6->llama-index-core<0.12.0,>=0.11.20->llama-index) (1.9.4)\n",
      "Requirement already satisfied: frozenlist>=1.1.1 in c:\\users\\akidra\\appdata\\roaming\\python\\python311\\site-packages (from aiohttp<4.0.0,>=3.8.6->llama-index-core<0.12.0,>=0.11.20->llama-index) (1.4.0)\n",
      "Requirement already satisfied: aiosignal>=1.1.2 in c:\\users\\akidra\\appdata\\roaming\\python\\python311\\site-packages (from aiohttp<4.0.0,>=3.8.6->llama-index-core<0.12.0,>=0.11.20->llama-index) (1.3.1)\n",
      "Requirement already satisfied: soupsieve>1.2 in c:\\users\\akidra\\appdata\\roaming\\python\\python311\\site-packages (from beautifulsoup4<5.0.0,>=4.12.3->llama-index-readers-file<0.3.0,>=0.2.0->llama-index) (2.4)\n",
      "Requirement already satisfied: anyio in c:\\users\\akidra\\appdata\\roaming\\python\\python311\\site-packages (from httpx->llama-index-core<0.12.0,>=0.11.20->llama-index) (4.6.2.post1)\n",
      "Requirement already satisfied: certifi in c:\\users\\akidra\\appdata\\roaming\\python\\python311\\site-packages (from httpx->llama-index-core<0.12.0,>=0.11.20->llama-index) (2023.7.22)\n",
      "Requirement already satisfied: httpcore==1.* in c:\\users\\akidra\\appdata\\roaming\\python\\python311\\site-packages (from httpx->llama-index-core<0.12.0,>=0.11.20->llama-index) (1.0.6)\n",
      "Requirement already satisfied: idna in c:\\users\\akidra\\appdata\\roaming\\python\\python311\\site-packages (from httpx->llama-index-core<0.12.0,>=0.11.20->llama-index) (3.4)\n",
      "Requirement already satisfied: sniffio in c:\\users\\akidra\\appdata\\roaming\\python\\python311\\site-packages (from httpx->llama-index-core<0.12.0,>=0.11.20->llama-index) (1.3.0)\n",
      "Requirement already satisfied: h11<0.15,>=0.13 in c:\\users\\akidra\\appdata\\roaming\\python\\python311\\site-packages (from httpcore==1.*->httpx->llama-index-core<0.12.0,>=0.11.20->llama-index) (0.14.0)\n",
      "Requirement already satisfied: colorama in c:\\users\\akidra\\appdata\\roaming\\python\\python311\\site-packages (from click->nltk>3.8.1->llama-index) (0.4.6)\n",
      "Requirement already satisfied: distro<2,>=1.7.0 in c:\\users\\akidra\\appdata\\roaming\\python\\python311\\site-packages (from openai>=1.14.0->llama-index-agent-openai<0.4.0,>=0.3.4->llama-index) (1.8.0)\n",
      "Requirement already satisfied: jiter<1,>=0.4.0 in c:\\users\\akidra\\appdata\\roaming\\python\\python311\\site-packages (from openai>=1.14.0->llama-index-agent-openai<0.4.0,>=0.3.4->llama-index) (0.7.0)\n",
      "Requirement already satisfied: annotated-types>=0.4.0 in c:\\users\\akidra\\appdata\\roaming\\python\\python311\\site-packages (from pydantic<3.0.0,>=2.7.0->llama-index-core<0.12.0,>=0.11.20->llama-index) (0.6.0)\n",
      "Requirement already satisfied: pydantic-core==2.18.2 in c:\\users\\akidra\\appdata\\roaming\\python\\python311\\site-packages (from pydantic<3.0.0,>=2.7.0->llama-index-core<0.12.0,>=0.11.20->llama-index) (2.18.2)\n",
      "Requirement already satisfied: charset-normalizer<4,>=2 in c:\\users\\akidra\\appdata\\roaming\\python\\python311\\site-packages (from requests>=2.31.0->llama-index-core<0.12.0,>=0.11.20->llama-index) (3.2.0)\n",
      "Requirement already satisfied: urllib3<3,>=1.21.1 in c:\\users\\akidra\\appdata\\roaming\\python\\python311\\site-packages (from requests>=2.31.0->llama-index-core<0.12.0,>=0.11.20->llama-index) (1.26.18)\n",
      "Requirement already satisfied: greenlet!=0.4.17 in c:\\users\\akidra\\appdata\\roaming\\python\\python311\\site-packages (from SQLAlchemy>=1.4.49->SQLAlchemy[asyncio]>=1.4.49->llama-index-core<0.12.0,>=0.11.20->llama-index) (3.0.3)\n",
      "Requirement already satisfied: mypy-extensions>=0.3.0 in c:\\users\\akidra\\appdata\\roaming\\python\\python311\\site-packages (from typing-inspect>=0.8.0->llama-index-core<0.12.0,>=0.11.20->llama-index) (1.0.0)\n",
      "Requirement already satisfied: marshmallow<4.0.0,>=3.18.0 in c:\\users\\akidra\\appdata\\roaming\\python\\python311\\site-packages (from dataclasses-json->llama-index-core<0.12.0,>=0.11.20->llama-index) (3.20.1)\n",
      "Requirement already satisfied: python-dateutil>=2.8.2 in c:\\users\\akidra\\appdata\\roaming\\python\\python311\\site-packages (from pandas->llama-index-legacy<0.10.0,>=0.9.48->llama-index) (2.8.2)\n",
      "Requirement already satisfied: pytz>=2020.1 in c:\\users\\akidra\\appdata\\roaming\\python\\python311\\site-packages (from pandas->llama-index-legacy<0.10.0,>=0.9.48->llama-index) (2023.3.post1)\n",
      "Requirement already satisfied: tzdata>=2022.1 in c:\\users\\akidra\\appdata\\roaming\\python\\python311\\site-packages (from pandas->llama-index-legacy<0.10.0,>=0.9.48->llama-index) (2023.3)\n",
      "Requirement already satisfied: packaging>=17.0 in c:\\users\\akidra\\appdata\\roaming\\python\\python311\\site-packages (from marshmallow<4.0.0,>=3.18.0->dataclasses-json->llama-index-core<0.12.0,>=0.11.20->llama-index) (23.2)\n",
      "Requirement already satisfied: six>=1.5 in c:\\users\\akidra\\appdata\\roaming\\python\\python311\\site-packages (from python-dateutil>=2.8.2->pandas->llama-index-legacy<0.10.0,>=0.9.48->llama-index) (1.16.0)\n",
      "Using cached llama_index-0.11.20-py3-none-any.whl (6.8 kB)\n",
      "Installing collected packages: llama-index\n",
      "Successfully installed llama-index-0.11.20\n"
     ]
    }
   ],
   "source": [
    "%pip install  llama-index-llms-fireworks\n",
    "%pip install llama-index"
   ]
  },
  {
   "cell_type": "code",
   "execution_count": 33,
   "id": "e403e354",
   "metadata": {
    "scrolled": true
   },
   "outputs": [
    {
     "name": "stdout",
     "output_type": "stream",
     "text": [
      "Name: llama-index-llms-fireworks\n",
      "Version: 0.2.2\n",
      "Summary: llama-index llms fireworks integration\n",
      "Home-page: \n",
      "Author: benjibc\n",
      "Author-email: \n",
      "License: MIT\n",
      "Location: C:\\Users\\akidra\\AppData\\Roaming\\Python\\Python311\\site-packages\n",
      "Requires: llama-index-core, llama-index-llms-openai\n",
      "Required-by: \n",
      "Name: llama-index\n",
      "Version: 0.11.20\n",
      "Summary: Interface between LLMs and your data\n",
      "Home-page: https://llamaindex.ai\n",
      "Author: Jerry Liu\n",
      "Author-email: jerry@llamaindex.ai\n",
      "License: MIT\n",
      "Location: C:\\Users\\akidra\\AppData\\Roaming\\Python\\Python311\\site-packages\n",
      "Requires: llama-index-agent-openai, llama-index-cli, llama-index-core, llama-index-embeddings-openai, llama-index-indices-managed-llama-cloud, llama-index-legacy, llama-index-llms-openai, llama-index-multi-modal-llms-openai, llama-index-program-openai, llama-index-question-gen-openai, llama-index-readers-file, llama-index-readers-llama-parse, nltk\n",
      "Required-by: pymemgpt\n"
     ]
    }
   ],
   "source": [
    "!pip show llama-index-llms-fireworks\n",
    "!pip show llama-index"
   ]
  },
  {
   "cell_type": "code",
   "execution_count": 32,
   "id": "f7600dcd",
   "metadata": {},
   "outputs": [
    {
     "ename": "ImportError",
     "evalue": "cannot import name 'Secret' from 'pydantic' (C:\\Users\\akidra\\AppData\\Roaming\\Python\\Python311\\site-packages\\pydantic\\__init__.py)",
     "output_type": "error",
     "traceback": [
      "\u001b[1;31m-----------------------------------------------------------------------\u001b[0m",
      "\u001b[1;31mImportError\u001b[0m                           Traceback (most recent call last)",
      "Cell \u001b[1;32mIn[32], line 1\u001b[0m\n\u001b[1;32m----> 1\u001b[0m \u001b[38;5;28;01mfrom\u001b[39;00m \u001b[38;5;21;01mllama_index\u001b[39;00m\u001b[38;5;21;01m.\u001b[39;00m\u001b[38;5;21;01mllms\u001b[39;00m\u001b[38;5;21;01m.\u001b[39;00m\u001b[38;5;21;01mfireworks\u001b[39;00m \u001b[38;5;28;01mimport\u001b[39;00m Fireworks\n",
      "File \u001b[1;32m~\\AppData\\Roaming\\Python\\Python311\\site-packages\\llama_index\\llms\\fireworks\\__init__.py:1\u001b[0m\n\u001b[1;32m----> 1\u001b[0m \u001b[38;5;28;01mfrom\u001b[39;00m \u001b[38;5;21;01mllama_index\u001b[39;00m\u001b[38;5;21;01m.\u001b[39;00m\u001b[38;5;21;01mllms\u001b[39;00m\u001b[38;5;21;01m.\u001b[39;00m\u001b[38;5;21;01mfireworks\u001b[39;00m\u001b[38;5;21;01m.\u001b[39;00m\u001b[38;5;21;01mbase\u001b[39;00m \u001b[38;5;28;01mimport\u001b[39;00m Fireworks\n\u001b[0;32m      3\u001b[0m __all__ \u001b[38;5;241m=\u001b[39m [\u001b[38;5;124m\"\u001b[39m\u001b[38;5;124mFireworks\u001b[39m\u001b[38;5;124m\"\u001b[39m]\n",
      "File \u001b[1;32m~\\AppData\\Roaming\\Python\\Python311\\site-packages\\llama_index\\llms\\fireworks\\base.py:3\u001b[0m\n\u001b[0;32m      1\u001b[0m \u001b[38;5;28;01mfrom\u001b[39;00m \u001b[38;5;21;01mtyping\u001b[39;00m \u001b[38;5;28;01mimport\u001b[39;00m Any, Callable, Dict, Optional, Sequence\n\u001b[1;32m----> 3\u001b[0m \u001b[38;5;28;01mfrom\u001b[39;00m \u001b[38;5;21;01mllama_index\u001b[39;00m\u001b[38;5;21;01m.\u001b[39;00m\u001b[38;5;21;01mcore\u001b[39;00m\u001b[38;5;21;01m.\u001b[39;00m\u001b[38;5;21;01mbase\u001b[39;00m\u001b[38;5;21;01m.\u001b[39;00m\u001b[38;5;21;01mllms\u001b[39;00m\u001b[38;5;21;01m.\u001b[39;00m\u001b[38;5;21;01mtypes\u001b[39;00m \u001b[38;5;28;01mimport\u001b[39;00m ChatMessage, LLMMetadata\n\u001b[0;32m      4\u001b[0m \u001b[38;5;28;01mfrom\u001b[39;00m \u001b[38;5;21;01mllama_index\u001b[39;00m\u001b[38;5;21;01m.\u001b[39;00m\u001b[38;5;21;01mcore\u001b[39;00m\u001b[38;5;21;01m.\u001b[39;00m\u001b[38;5;21;01mcallbacks\u001b[39;00m \u001b[38;5;28;01mimport\u001b[39;00m CallbackManager\n\u001b[0;32m      5\u001b[0m \u001b[38;5;28;01mfrom\u001b[39;00m \u001b[38;5;21;01mllama_index\u001b[39;00m\u001b[38;5;21;01m.\u001b[39;00m\u001b[38;5;21;01mcore\u001b[39;00m\u001b[38;5;21;01m.\u001b[39;00m\u001b[38;5;21;01mconstants\u001b[39;00m \u001b[38;5;28;01mimport\u001b[39;00m DEFAULT_NUM_OUTPUTS, DEFAULT_TEMPERATURE\n",
      "File \u001b[1;32m~\\AppData\\Roaming\\Python\\Python311\\site-packages\\llama_index\\core\\base\\llms\\types.py:17\u001b[0m\n\u001b[0;32m      4\u001b[0m \u001b[38;5;28;01mfrom\u001b[39;00m \u001b[38;5;21;01mio\u001b[39;00m \u001b[38;5;28;01mimport\u001b[39;00m BytesIO\n\u001b[0;32m      5\u001b[0m \u001b[38;5;28;01mfrom\u001b[39;00m \u001b[38;5;21;01mtyping\u001b[39;00m \u001b[38;5;28;01mimport\u001b[39;00m (\n\u001b[0;32m      6\u001b[0m     Any,\n\u001b[0;32m      7\u001b[0m     AsyncGenerator,\n\u001b[1;32m   (...)\u001b[0m\n\u001b[0;32m     14\u001b[0m     Any,\n\u001b[0;32m     15\u001b[0m )\n\u001b[1;32m---> 17\u001b[0m \u001b[38;5;28;01mfrom\u001b[39;00m \u001b[38;5;21;01mllama_index\u001b[39;00m\u001b[38;5;21;01m.\u001b[39;00m\u001b[38;5;21;01mcore\u001b[39;00m\u001b[38;5;21;01m.\u001b[39;00m\u001b[38;5;21;01mbridge\u001b[39;00m\u001b[38;5;21;01m.\u001b[39;00m\u001b[38;5;21;01mpydantic\u001b[39;00m \u001b[38;5;28;01mimport\u001b[39;00m (\n\u001b[0;32m     18\u001b[0m     BaseModel,\n\u001b[0;32m     19\u001b[0m     Field,\n\u001b[0;32m     20\u001b[0m     ConfigDict,\n\u001b[0;32m     21\u001b[0m     field_serializer,\n\u001b[0;32m     22\u001b[0m )\n\u001b[0;32m     23\u001b[0m \u001b[38;5;28;01mfrom\u001b[39;00m \u001b[38;5;21;01mllama_index\u001b[39;00m\u001b[38;5;21;01m.\u001b[39;00m\u001b[38;5;21;01mcore\u001b[39;00m\u001b[38;5;21;01m.\u001b[39;00m\u001b[38;5;21;01mconstants\u001b[39;00m \u001b[38;5;28;01mimport\u001b[39;00m DEFAULT_CONTEXT_WINDOW, DEFAULT_NUM_OUTPUTS\n\u001b[0;32m     24\u001b[0m \u001b[38;5;28;01mfrom\u001b[39;00m \u001b[38;5;21;01mllama_index\u001b[39;00m\u001b[38;5;21;01m.\u001b[39;00m\u001b[38;5;21;01mcore\u001b[39;00m\u001b[38;5;21;01m.\u001b[39;00m\u001b[38;5;21;01mschema\u001b[39;00m \u001b[38;5;28;01mimport\u001b[39;00m ImageType\n",
      "File \u001b[1;32m~\\AppData\\Roaming\\Python\\Python311\\site-packages\\llama_index\\core\\bridge\\pydantic.py:2\u001b[0m\n\u001b[0;32m      1\u001b[0m \u001b[38;5;28;01mimport\u001b[39;00m \u001b[38;5;21;01mpydantic\u001b[39;00m\n\u001b[1;32m----> 2\u001b[0m \u001b[38;5;28;01mfrom\u001b[39;00m \u001b[38;5;21;01mpydantic\u001b[39;00m \u001b[38;5;28;01mimport\u001b[39;00m (\n\u001b[0;32m      3\u001b[0m     ConfigDict,\n\u001b[0;32m      4\u001b[0m     BaseModel,\n\u001b[0;32m      5\u001b[0m     GetJsonSchemaHandler,\n\u001b[0;32m      6\u001b[0m     GetCoreSchemaHandler,\n\u001b[0;32m      7\u001b[0m     Field,\n\u001b[0;32m      8\u001b[0m     PlainSerializer,\n\u001b[0;32m      9\u001b[0m     PrivateAttr,\n\u001b[0;32m     10\u001b[0m     StrictFloat,\n\u001b[0;32m     11\u001b[0m     StrictInt,\n\u001b[0;32m     12\u001b[0m     StrictStr,\n\u001b[0;32m     13\u001b[0m     create_model,\n\u001b[0;32m     14\u001b[0m     model_validator,\n\u001b[0;32m     15\u001b[0m     field_validator,\n\u001b[0;32m     16\u001b[0m     ValidationInfo,\n\u001b[0;32m     17\u001b[0m     ValidationError,\n\u001b[0;32m     18\u001b[0m     TypeAdapter,\n\u001b[0;32m     19\u001b[0m     WithJsonSchema,\n\u001b[0;32m     20\u001b[0m     BeforeValidator,\n\u001b[0;32m     21\u001b[0m     SerializeAsAny,\n\u001b[0;32m     22\u001b[0m     WrapSerializer,\n\u001b[0;32m     23\u001b[0m     field_serializer,\n\u001b[0;32m     24\u001b[0m     Secret,\n\u001b[0;32m     25\u001b[0m     SecretStr,\n\u001b[0;32m     26\u001b[0m     model_serializer,\n\u001b[0;32m     27\u001b[0m )\n\u001b[0;32m     28\u001b[0m \u001b[38;5;28;01mfrom\u001b[39;00m \u001b[38;5;21;01mpydantic\u001b[39;00m\u001b[38;5;21;01m.\u001b[39;00m\u001b[38;5;21;01mfields\u001b[39;00m \u001b[38;5;28;01mimport\u001b[39;00m FieldInfo\n\u001b[0;32m     29\u001b[0m \u001b[38;5;28;01mfrom\u001b[39;00m \u001b[38;5;21;01mpydantic\u001b[39;00m\u001b[38;5;21;01m.\u001b[39;00m\u001b[38;5;21;01mjson_schema\u001b[39;00m \u001b[38;5;28;01mimport\u001b[39;00m JsonSchemaValue\n",
      "\u001b[1;31mImportError\u001b[0m: cannot import name 'Secret' from 'pydantic' (C:\\Users\\akidra\\AppData\\Roaming\\Python\\Python311\\site-packages\\pydantic\\__init__.py)"
     ]
    }
   ],
   "source": [
    "from llama_index.llms.fireworks import Fireworks"
   ]
  }
 ],
 "metadata": {
  "kernelspec": {
   "display_name": "Python 3 (ipykernel)",
   "language": "python",
   "name": "python3"
  },
  "language_info": {
   "codemirror_mode": {
    "name": "ipython",
    "version": 3
   },
   "file_extension": ".py",
   "mimetype": "text/x-python",
   "name": "python",
   "nbconvert_exporter": "python",
   "pygments_lexer": "ipython3",
   "version": "3.11.2"
  }
 },
 "nbformat": 4,
 "nbformat_minor": 5
}
