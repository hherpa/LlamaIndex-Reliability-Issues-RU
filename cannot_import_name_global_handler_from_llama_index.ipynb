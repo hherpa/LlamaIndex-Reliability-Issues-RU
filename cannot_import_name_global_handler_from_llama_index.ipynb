{
 "cells": [
  {
   "cell_type": "markdown",
   "id": "5b2762d4",
   "metadata": {},
   "source": [
    "### docs link: https://llamahub.ai/l/llms/llama-index-llms-fireworks?from=llms"
   ]
  },
  {
   "cell_type": "code",
   "execution_count": 1,
   "id": "3463f94f",
   "metadata": {},
   "outputs": [
    {
     "name": "stdout",
     "output_type": "stream",
     "text": [
      "Defaulting to user installation because normal site-packages is not writeable\n",
      "Requirement already satisfied: llama-index-llms-fireworks in c:\\users\\akidra\\appdata\\roaming\\python\\python311\\site-packages (0.2.2)\n",
      "Requirement already satisfied: llama-index-core<0.12.0,>=0.11.0 in c:\\users\\akidra\\appdata\\roaming\\python\\python311\\site-packages (from llama-index-llms-fireworks) (0.11.21)\n",
      "Requirement already satisfied: llama-index-llms-openai<0.3.0,>=0.2.0 in c:\\users\\akidra\\appdata\\roaming\\python\\python311\\site-packages (from llama-index-llms-fireworks) (0.2.16)\n",
      "Requirement already satisfied: PyYAML>=6.0.1 in c:\\users\\akidra\\appdata\\roaming\\python\\python311\\site-packages (from llama-index-core<0.12.0,>=0.11.0->llama-index-llms-fireworks) (6.0.1)\n",
      "Requirement already satisfied: SQLAlchemy>=1.4.49 in c:\\users\\akidra\\appdata\\roaming\\python\\python311\\site-packages (from SQLAlchemy[asyncio]>=1.4.49->llama-index-core<0.12.0,>=0.11.0->llama-index-llms-fireworks) (2.0.23)\n",
      "Requirement already satisfied: aiohttp<4.0.0,>=3.8.6 in c:\\users\\akidra\\appdata\\roaming\\python\\python311\\site-packages (from llama-index-core<0.12.0,>=0.11.0->llama-index-llms-fireworks) (3.9.1)\n",
      "Requirement already satisfied: dataclasses-json in c:\\users\\akidra\\appdata\\roaming\\python\\python311\\site-packages (from llama-index-core<0.12.0,>=0.11.0->llama-index-llms-fireworks) (0.6.3)\n",
      "Requirement already satisfied: deprecated>=1.2.9.3 in c:\\users\\akidra\\appdata\\roaming\\python\\python311\\site-packages (from llama-index-core<0.12.0,>=0.11.0->llama-index-llms-fireworks) (1.2.14)\n",
      "Requirement already satisfied: dirtyjson<2.0.0,>=1.0.8 in c:\\users\\akidra\\appdata\\roaming\\python\\python311\\site-packages (from llama-index-core<0.12.0,>=0.11.0->llama-index-llms-fireworks) (1.0.8)\n",
      "Requirement already satisfied: fsspec>=2023.5.0 in c:\\users\\akidra\\appdata\\roaming\\python\\python311\\site-packages (from llama-index-core<0.12.0,>=0.11.0->llama-index-llms-fireworks) (2023.10.0)\n",
      "Requirement already satisfied: httpx in c:\\users\\akidra\\appdata\\roaming\\python\\python311\\site-packages (from llama-index-core<0.12.0,>=0.11.0->llama-index-llms-fireworks) (0.25.2)\n",
      "Requirement already satisfied: nest-asyncio<2.0.0,>=1.5.8 in c:\\users\\akidra\\appdata\\roaming\\python\\python311\\site-packages (from llama-index-core<0.12.0,>=0.11.0->llama-index-llms-fireworks) (1.5.8)\n",
      "Requirement already satisfied: networkx>=3.0 in c:\\users\\akidra\\appdata\\roaming\\python\\python311\\site-packages (from llama-index-core<0.12.0,>=0.11.0->llama-index-llms-fireworks) (3.0)\n",
      "Requirement already satisfied: nltk>3.8.1 in c:\\users\\akidra\\appdata\\roaming\\python\\python311\\site-packages (from llama-index-core<0.12.0,>=0.11.0->llama-index-llms-fireworks) (3.9.1)\n",
      "Requirement already satisfied: numpy<2.0.0 in c:\\users\\akidra\\appdata\\roaming\\python\\python311\\site-packages (from llama-index-core<0.12.0,>=0.11.0->llama-index-llms-fireworks) (1.26.2)\n",
      "Requirement already satisfied: pillow>=9.0.0 in c:\\users\\akidra\\appdata\\roaming\\python\\python311\\site-packages (from llama-index-core<0.12.0,>=0.11.0->llama-index-llms-fireworks) (10.1.0)\n",
      "Requirement already satisfied: pydantic<3.0.0,>=2.7.0 in c:\\users\\akidra\\appdata\\roaming\\python\\python311\\site-packages (from llama-index-core<0.12.0,>=0.11.0->llama-index-llms-fireworks) (2.7.1)\n",
      "Requirement already satisfied: requests>=2.31.0 in c:\\users\\akidra\\appdata\\roaming\\python\\python311\\site-packages (from llama-index-core<0.12.0,>=0.11.0->llama-index-llms-fireworks) (2.31.0)\n",
      "Requirement already satisfied: tenacity!=8.4.0,<9.0.0,>=8.2.0 in c:\\users\\akidra\\appdata\\roaming\\python\\python311\\site-packages (from llama-index-core<0.12.0,>=0.11.0->llama-index-llms-fireworks) (8.2.3)\n",
      "Requirement already satisfied: tiktoken>=0.3.3 in c:\\users\\akidra\\appdata\\roaming\\python\\python311\\site-packages (from llama-index-core<0.12.0,>=0.11.0->llama-index-llms-fireworks) (0.5.2)\n",
      "Requirement already satisfied: tqdm<5.0.0,>=4.66.1 in c:\\users\\akidra\\appdata\\roaming\\python\\python311\\site-packages (from llama-index-core<0.12.0,>=0.11.0->llama-index-llms-fireworks) (4.66.1)\n",
      "Requirement already satisfied: typing-extensions>=4.5.0 in c:\\users\\akidra\\appdata\\roaming\\python\\python311\\site-packages (from llama-index-core<0.12.0,>=0.11.0->llama-index-llms-fireworks) (4.12.2)\n",
      "Requirement already satisfied: typing-inspect>=0.8.0 in c:\\users\\akidra\\appdata\\roaming\\python\\python311\\site-packages (from llama-index-core<0.12.0,>=0.11.0->llama-index-llms-fireworks) (0.9.0)\n",
      "Requirement already satisfied: wrapt in c:\\users\\akidra\\appdata\\roaming\\python\\python311\\site-packages (from llama-index-core<0.12.0,>=0.11.0->llama-index-llms-fireworks) (1.14.1)\n",
      "Requirement already satisfied: openai<2.0.0,>=1.40.0 in c:\\users\\akidra\\appdata\\roaming\\python\\python311\\site-packages (from llama-index-llms-openai<0.3.0,>=0.2.0->llama-index-llms-fireworks) (1.53.0)\n",
      "Requirement already satisfied: attrs>=17.3.0 in c:\\users\\akidra\\appdata\\roaming\\python\\python311\\site-packages (from aiohttp<4.0.0,>=3.8.6->llama-index-core<0.12.0,>=0.11.0->llama-index-llms-fireworks) (22.2.0)\n",
      "Requirement already satisfied: multidict<7.0,>=4.5 in c:\\users\\akidra\\appdata\\roaming\\python\\python311\\site-packages (from aiohttp<4.0.0,>=3.8.6->llama-index-core<0.12.0,>=0.11.0->llama-index-llms-fireworks) (6.0.4)\n",
      "Requirement already satisfied: yarl<2.0,>=1.0 in c:\\users\\akidra\\appdata\\roaming\\python\\python311\\site-packages (from aiohttp<4.0.0,>=3.8.6->llama-index-core<0.12.0,>=0.11.0->llama-index-llms-fireworks) (1.9.4)\n",
      "Requirement already satisfied: frozenlist>=1.1.1 in c:\\users\\akidra\\appdata\\roaming\\python\\python311\\site-packages (from aiohttp<4.0.0,>=3.8.6->llama-index-core<0.12.0,>=0.11.0->llama-index-llms-fireworks) (1.4.0)\n",
      "Requirement already satisfied: aiosignal>=1.1.2 in c:\\users\\akidra\\appdata\\roaming\\python\\python311\\site-packages (from aiohttp<4.0.0,>=3.8.6->llama-index-core<0.12.0,>=0.11.0->llama-index-llms-fireworks) (1.3.1)\n",
      "Requirement already satisfied: click in c:\\users\\akidra\\appdata\\roaming\\python\\python311\\site-packages (from nltk>3.8.1->llama-index-core<0.12.0,>=0.11.0->llama-index-llms-fireworks) (8.1.7)\n",
      "Requirement already satisfied: joblib in c:\\users\\akidra\\appdata\\roaming\\python\\python311\\site-packages (from nltk>3.8.1->llama-index-core<0.12.0,>=0.11.0->llama-index-llms-fireworks) (1.3.2)\n",
      "Requirement already satisfied: regex>=2021.8.3 in c:\\users\\akidra\\appdata\\roaming\\python\\python311\\site-packages (from nltk>3.8.1->llama-index-core<0.12.0,>=0.11.0->llama-index-llms-fireworks) (2023.10.3)\n",
      "Requirement already satisfied: anyio<5,>=3.5.0 in c:\\users\\akidra\\appdata\\roaming\\python\\python311\\site-packages (from openai<2.0.0,>=1.40.0->llama-index-llms-openai<0.3.0,>=0.2.0->llama-index-llms-fireworks) (4.6.2.post1)\n",
      "Requirement already satisfied: distro<2,>=1.7.0 in c:\\users\\akidra\\appdata\\roaming\\python\\python311\\site-packages (from openai<2.0.0,>=1.40.0->llama-index-llms-openai<0.3.0,>=0.2.0->llama-index-llms-fireworks) (1.8.0)\n",
      "Requirement already satisfied: jiter<1,>=0.4.0 in c:\\users\\akidra\\appdata\\roaming\\python\\python311\\site-packages (from openai<2.0.0,>=1.40.0->llama-index-llms-openai<0.3.0,>=0.2.0->llama-index-llms-fireworks) (0.7.0)\n",
      "Requirement already satisfied: sniffio in c:\\users\\akidra\\appdata\\roaming\\python\\python311\\site-packages (from openai<2.0.0,>=1.40.0->llama-index-llms-openai<0.3.0,>=0.2.0->llama-index-llms-fireworks) (1.3.0)\n",
      "Requirement already satisfied: certifi in c:\\users\\akidra\\appdata\\roaming\\python\\python311\\site-packages (from httpx->llama-index-core<0.12.0,>=0.11.0->llama-index-llms-fireworks) (2023.7.22)\n",
      "Requirement already satisfied: httpcore==1.* in c:\\users\\akidra\\appdata\\roaming\\python\\python311\\site-packages (from httpx->llama-index-core<0.12.0,>=0.11.0->llama-index-llms-fireworks) (1.0.6)\n",
      "Requirement already satisfied: idna in c:\\users\\akidra\\appdata\\roaming\\python\\python311\\site-packages (from httpx->llama-index-core<0.12.0,>=0.11.0->llama-index-llms-fireworks) (3.4)\n",
      "Requirement already satisfied: h11<0.15,>=0.13 in c:\\users\\akidra\\appdata\\roaming\\python\\python311\\site-packages (from httpcore==1.*->httpx->llama-index-core<0.12.0,>=0.11.0->llama-index-llms-fireworks) (0.14.0)\n",
      "Requirement already satisfied: annotated-types>=0.4.0 in c:\\users\\akidra\\appdata\\roaming\\python\\python311\\site-packages (from pydantic<3.0.0,>=2.7.0->llama-index-core<0.12.0,>=0.11.0->llama-index-llms-fireworks) (0.6.0)\n",
      "Requirement already satisfied: pydantic-core==2.18.2 in c:\\users\\akidra\\appdata\\roaming\\python\\python311\\site-packages (from pydantic<3.0.0,>=2.7.0->llama-index-core<0.12.0,>=0.11.0->llama-index-llms-fireworks) (2.18.2)\n",
      "Requirement already satisfied: charset-normalizer<4,>=2 in c:\\users\\akidra\\appdata\\roaming\\python\\python311\\site-packages (from requests>=2.31.0->llama-index-core<0.12.0,>=0.11.0->llama-index-llms-fireworks) (3.2.0)\n",
      "Requirement already satisfied: urllib3<3,>=1.21.1 in c:\\users\\akidra\\appdata\\roaming\\python\\python311\\site-packages (from requests>=2.31.0->llama-index-core<0.12.0,>=0.11.0->llama-index-llms-fireworks) (1.26.18)\n",
      "Requirement already satisfied: greenlet!=0.4.17 in c:\\users\\akidra\\appdata\\roaming\\python\\python311\\site-packages (from SQLAlchemy>=1.4.49->SQLAlchemy[asyncio]>=1.4.49->llama-index-core<0.12.0,>=0.11.0->llama-index-llms-fireworks) (3.0.3)\n",
      "Requirement already satisfied: colorama in c:\\users\\akidra\\appdata\\roaming\\python\\python311\\site-packages (from tqdm<5.0.0,>=4.66.1->llama-index-core<0.12.0,>=0.11.0->llama-index-llms-fireworks) (0.4.6)\n",
      "Requirement already satisfied: mypy-extensions>=0.3.0 in c:\\users\\akidra\\appdata\\roaming\\python\\python311\\site-packages (from typing-inspect>=0.8.0->llama-index-core<0.12.0,>=0.11.0->llama-index-llms-fireworks) (1.0.0)\n",
      "Requirement already satisfied: marshmallow<4.0.0,>=3.18.0 in c:\\users\\akidra\\appdata\\roaming\\python\\python311\\site-packages (from dataclasses-json->llama-index-core<0.12.0,>=0.11.0->llama-index-llms-fireworks) (3.20.1)\n",
      "Requirement already satisfied: packaging>=17.0 in c:\\users\\akidra\\appdata\\roaming\\python\\python311\\site-packages (from marshmallow<4.0.0,>=3.18.0->dataclasses-json->llama-index-core<0.12.0,>=0.11.0->llama-index-llms-fireworks) (23.2)\n",
      "Note: you may need to restart the kernel to use updated packages.\n"
     ]
    },
    {
     "name": "stderr",
     "output_type": "stream",
     "text": [
      "\n",
      "[notice] A new release of pip is available: 24.0 -> 24.3.1\n",
      "[notice] To update, run: python.exe -m pip install --upgrade pip\n"
     ]
    },
    {
     "name": "stdout",
     "output_type": "stream",
     "text": [
      "Defaulting to user installation because normal site-packages is not writeable\n",
      "Requirement already satisfied: llama-index in c:\\users\\akidra\\appdata\\roaming\\python\\python311\\site-packages (0.11.20)\n",
      "Requirement already satisfied: llama-index-agent-openai<0.4.0,>=0.3.4 in c:\\users\\akidra\\appdata\\roaming\\python\\python311\\site-packages (from llama-index) (0.3.4)\n",
      "Requirement already satisfied: llama-index-cli<0.4.0,>=0.3.1 in c:\\users\\akidra\\appdata\\roaming\\python\\python311\\site-packages (from llama-index) (0.3.1)\n",
      "Requirement already satisfied: llama-index-core<0.12.0,>=0.11.20 in c:\\users\\akidra\\appdata\\roaming\\python\\python311\\site-packages (from llama-index) (0.11.21)\n",
      "Requirement already satisfied: llama-index-embeddings-openai<0.3.0,>=0.2.4 in c:\\users\\akidra\\appdata\\roaming\\python\\python311\\site-packages (from llama-index) (0.2.5)\n",
      "Requirement already satisfied: llama-index-indices-managed-llama-cloud>=0.3.0 in c:\\users\\akidra\\appdata\\roaming\\python\\python311\\site-packages (from llama-index) (0.4.0)\n",
      "Requirement already satisfied: llama-index-legacy<0.10.0,>=0.9.48 in c:\\users\\akidra\\appdata\\roaming\\python\\python311\\site-packages (from llama-index) (0.9.48.post3)\n",
      "Requirement already satisfied: llama-index-llms-openai<0.3.0,>=0.2.10 in c:\\users\\akidra\\appdata\\roaming\\python\\python311\\site-packages (from llama-index) (0.2.16)\n",
      "Requirement already satisfied: llama-index-multi-modal-llms-openai<0.3.0,>=0.2.0 in c:\\users\\akidra\\appdata\\roaming\\python\\python311\\site-packages (from llama-index) (0.2.3)\n",
      "Requirement already satisfied: llama-index-program-openai<0.3.0,>=0.2.0 in c:\\users\\akidra\\appdata\\roaming\\python\\python311\\site-packages (from llama-index) (0.2.0)\n",
      "Requirement already satisfied: llama-index-question-gen-openai<0.3.0,>=0.2.0 in c:\\users\\akidra\\appdata\\roaming\\python\\python311\\site-packages (from llama-index) (0.2.0)\n",
      "Requirement already satisfied: llama-index-readers-file<0.3.0,>=0.2.0 in c:\\users\\akidra\\appdata\\roaming\\python\\python311\\site-packages (from llama-index) (0.2.2)\n",
      "Requirement already satisfied: llama-index-readers-llama-parse>=0.3.0 in c:\\users\\akidra\\appdata\\roaming\\python\\python311\\site-packages (from llama-index) (0.3.0)\n",
      "Requirement already satisfied: nltk>3.8.1 in c:\\users\\akidra\\appdata\\roaming\\python\\python311\\site-packages (from llama-index) (3.9.1)\n",
      "Requirement already satisfied: openai>=1.14.0 in c:\\users\\akidra\\appdata\\roaming\\python\\python311\\site-packages (from llama-index-agent-openai<0.4.0,>=0.3.4->llama-index) (1.53.0)\n",
      "Requirement already satisfied: PyYAML>=6.0.1 in c:\\users\\akidra\\appdata\\roaming\\python\\python311\\site-packages (from llama-index-core<0.12.0,>=0.11.20->llama-index) (6.0.1)\n",
      "Requirement already satisfied: SQLAlchemy>=1.4.49 in c:\\users\\akidra\\appdata\\roaming\\python\\python311\\site-packages (from SQLAlchemy[asyncio]>=1.4.49->llama-index-core<0.12.0,>=0.11.20->llama-index) (2.0.23)\n",
      "Requirement already satisfied: aiohttp<4.0.0,>=3.8.6 in c:\\users\\akidra\\appdata\\roaming\\python\\python311\\site-packages (from llama-index-core<0.12.0,>=0.11.20->llama-index) (3.9.1)\n",
      "Requirement already satisfied: dataclasses-json in c:\\users\\akidra\\appdata\\roaming\\python\\python311\\site-packages (from llama-index-core<0.12.0,>=0.11.20->llama-index) (0.6.3)\n",
      "Requirement already satisfied: deprecated>=1.2.9.3 in c:\\users\\akidra\\appdata\\roaming\\python\\python311\\site-packages (from llama-index-core<0.12.0,>=0.11.20->llama-index) (1.2.14)\n",
      "Requirement already satisfied: dirtyjson<2.0.0,>=1.0.8 in c:\\users\\akidra\\appdata\\roaming\\python\\python311\\site-packages (from llama-index-core<0.12.0,>=0.11.20->llama-index) (1.0.8)\n",
      "Requirement already satisfied: fsspec>=2023.5.0 in c:\\users\\akidra\\appdata\\roaming\\python\\python311\\site-packages (from llama-index-core<0.12.0,>=0.11.20->llama-index) (2023.10.0)\n",
      "Requirement already satisfied: httpx in c:\\users\\akidra\\appdata\\roaming\\python\\python311\\site-packages (from llama-index-core<0.12.0,>=0.11.20->llama-index) (0.25.2)\n",
      "Requirement already satisfied: nest-asyncio<2.0.0,>=1.5.8 in c:\\users\\akidra\\appdata\\roaming\\python\\python311\\site-packages (from llama-index-core<0.12.0,>=0.11.20->llama-index) (1.5.8)\n",
      "Requirement already satisfied: networkx>=3.0 in c:\\users\\akidra\\appdata\\roaming\\python\\python311\\site-packages (from llama-index-core<0.12.0,>=0.11.20->llama-index) (3.0)\n",
      "Requirement already satisfied: numpy<2.0.0 in c:\\users\\akidra\\appdata\\roaming\\python\\python311\\site-packages (from llama-index-core<0.12.0,>=0.11.20->llama-index) (1.26.2)\n",
      "Requirement already satisfied: pillow>=9.0.0 in c:\\users\\akidra\\appdata\\roaming\\python\\python311\\site-packages (from llama-index-core<0.12.0,>=0.11.20->llama-index) (10.1.0)\n",
      "Requirement already satisfied: pydantic<3.0.0,>=2.7.0 in c:\\users\\akidra\\appdata\\roaming\\python\\python311\\site-packages (from llama-index-core<0.12.0,>=0.11.20->llama-index) (2.7.1)\n",
      "Requirement already satisfied: requests>=2.31.0 in c:\\users\\akidra\\appdata\\roaming\\python\\python311\\site-packages (from llama-index-core<0.12.0,>=0.11.20->llama-index) (2.31.0)\n",
      "Requirement already satisfied: tenacity!=8.4.0,<9.0.0,>=8.2.0 in c:\\users\\akidra\\appdata\\roaming\\python\\python311\\site-packages (from llama-index-core<0.12.0,>=0.11.20->llama-index) (8.2.3)\n",
      "Requirement already satisfied: tiktoken>=0.3.3 in c:\\users\\akidra\\appdata\\roaming\\python\\python311\\site-packages (from llama-index-core<0.12.0,>=0.11.20->llama-index) (0.5.2)\n",
      "Requirement already satisfied: tqdm<5.0.0,>=4.66.1 in c:\\users\\akidra\\appdata\\roaming\\python\\python311\\site-packages (from llama-index-core<0.12.0,>=0.11.20->llama-index) (4.66.1)\n",
      "Requirement already satisfied: typing-extensions>=4.5.0 in c:\\users\\akidra\\appdata\\roaming\\python\\python311\\site-packages (from llama-index-core<0.12.0,>=0.11.20->llama-index) (4.12.2)\n",
      "Requirement already satisfied: typing-inspect>=0.8.0 in c:\\users\\akidra\\appdata\\roaming\\python\\python311\\site-packages (from llama-index-core<0.12.0,>=0.11.20->llama-index) (0.9.0)\n",
      "Requirement already satisfied: wrapt in c:\\users\\akidra\\appdata\\roaming\\python\\python311\\site-packages (from llama-index-core<0.12.0,>=0.11.20->llama-index) (1.14.1)\n",
      "Requirement already satisfied: llama-cloud>=0.0.11 in c:\\users\\akidra\\appdata\\roaming\\python\\python311\\site-packages (from llama-index-indices-managed-llama-cloud>=0.3.0->llama-index) (0.1.4)\n",
      "Requirement already satisfied: pandas in c:\\users\\akidra\\appdata\\roaming\\python\\python311\\site-packages (from llama-index-legacy<0.10.0,>=0.9.48->llama-index) (2.1.1)\n",
      "Requirement already satisfied: beautifulsoup4<5.0.0,>=4.12.3 in c:\\users\\akidra\\appdata\\roaming\\python\\python311\\site-packages (from llama-index-readers-file<0.3.0,>=0.2.0->llama-index) (4.12.3)\n",
      "Requirement already satisfied: pypdf<5.0.0,>=4.0.1 in c:\\users\\akidra\\appdata\\roaming\\python\\python311\\site-packages (from llama-index-readers-file<0.3.0,>=0.2.0->llama-index) (4.3.1)\n",
      "Requirement already satisfied: striprtf<0.0.27,>=0.0.26 in c:\\users\\akidra\\appdata\\roaming\\python\\python311\\site-packages (from llama-index-readers-file<0.3.0,>=0.2.0->llama-index) (0.0.26)\n",
      "Requirement already satisfied: llama-parse>=0.5.0 in c:\\users\\akidra\\appdata\\roaming\\python\\python311\\site-packages (from llama-index-readers-llama-parse>=0.3.0->llama-index) (0.5.12)\n",
      "Requirement already satisfied: click in c:\\users\\akidra\\appdata\\roaming\\python\\python311\\site-packages (from nltk>3.8.1->llama-index) (8.1.7)\n",
      "Requirement already satisfied: joblib in c:\\users\\akidra\\appdata\\roaming\\python\\python311\\site-packages (from nltk>3.8.1->llama-index) (1.3.2)\n",
      "Requirement already satisfied: regex>=2021.8.3 in c:\\users\\akidra\\appdata\\roaming\\python\\python311\\site-packages (from nltk>3.8.1->llama-index) (2023.10.3)\n",
      "Requirement already satisfied: attrs>=17.3.0 in c:\\users\\akidra\\appdata\\roaming\\python\\python311\\site-packages (from aiohttp<4.0.0,>=3.8.6->llama-index-core<0.12.0,>=0.11.20->llama-index) (22.2.0)\n",
      "Requirement already satisfied: multidict<7.0,>=4.5 in c:\\users\\akidra\\appdata\\roaming\\python\\python311\\site-packages (from aiohttp<4.0.0,>=3.8.6->llama-index-core<0.12.0,>=0.11.20->llama-index) (6.0.4)\n",
      "Requirement already satisfied: yarl<2.0,>=1.0 in c:\\users\\akidra\\appdata\\roaming\\python\\python311\\site-packages (from aiohttp<4.0.0,>=3.8.6->llama-index-core<0.12.0,>=0.11.20->llama-index) (1.9.4)\n",
      "Requirement already satisfied: frozenlist>=1.1.1 in c:\\users\\akidra\\appdata\\roaming\\python\\python311\\site-packages (from aiohttp<4.0.0,>=3.8.6->llama-index-core<0.12.0,>=0.11.20->llama-index) (1.4.0)\n",
      "Requirement already satisfied: aiosignal>=1.1.2 in c:\\users\\akidra\\appdata\\roaming\\python\\python311\\site-packages (from aiohttp<4.0.0,>=3.8.6->llama-index-core<0.12.0,>=0.11.20->llama-index) (1.3.1)\n",
      "Requirement already satisfied: soupsieve>1.2 in c:\\users\\akidra\\appdata\\roaming\\python\\python311\\site-packages (from beautifulsoup4<5.0.0,>=4.12.3->llama-index-readers-file<0.3.0,>=0.2.0->llama-index) (2.4)\n",
      "Requirement already satisfied: anyio in c:\\users\\akidra\\appdata\\roaming\\python\\python311\\site-packages (from httpx->llama-index-core<0.12.0,>=0.11.20->llama-index) (4.6.2.post1)\n",
      "Requirement already satisfied: certifi in c:\\users\\akidra\\appdata\\roaming\\python\\python311\\site-packages (from httpx->llama-index-core<0.12.0,>=0.11.20->llama-index) (2023.7.22)\n",
      "Requirement already satisfied: httpcore==1.* in c:\\users\\akidra\\appdata\\roaming\\python\\python311\\site-packages (from httpx->llama-index-core<0.12.0,>=0.11.20->llama-index) (1.0.6)\n",
      "Requirement already satisfied: idna in c:\\users\\akidra\\appdata\\roaming\\python\\python311\\site-packages (from httpx->llama-index-core<0.12.0,>=0.11.20->llama-index) (3.4)\n",
      "Requirement already satisfied: sniffio in c:\\users\\akidra\\appdata\\roaming\\python\\python311\\site-packages (from httpx->llama-index-core<0.12.0,>=0.11.20->llama-index) (1.3.0)\n",
      "Requirement already satisfied: h11<0.15,>=0.13 in c:\\users\\akidra\\appdata\\roaming\\python\\python311\\site-packages (from httpcore==1.*->httpx->llama-index-core<0.12.0,>=0.11.20->llama-index) (0.14.0)\n",
      "Requirement already satisfied: colorama in c:\\users\\akidra\\appdata\\roaming\\python\\python311\\site-packages (from click->nltk>3.8.1->llama-index) (0.4.6)\n",
      "Requirement already satisfied: distro<2,>=1.7.0 in c:\\users\\akidra\\appdata\\roaming\\python\\python311\\site-packages (from openai>=1.14.0->llama-index-agent-openai<0.4.0,>=0.3.4->llama-index) (1.8.0)\n",
      "Requirement already satisfied: jiter<1,>=0.4.0 in c:\\users\\akidra\\appdata\\roaming\\python\\python311\\site-packages (from openai>=1.14.0->llama-index-agent-openai<0.4.0,>=0.3.4->llama-index) (0.7.0)\n",
      "Requirement already satisfied: annotated-types>=0.4.0 in c:\\users\\akidra\\appdata\\roaming\\python\\python311\\site-packages (from pydantic<3.0.0,>=2.7.0->llama-index-core<0.12.0,>=0.11.20->llama-index) (0.6.0)\n",
      "Requirement already satisfied: pydantic-core==2.18.2 in c:\\users\\akidra\\appdata\\roaming\\python\\python311\\site-packages (from pydantic<3.0.0,>=2.7.0->llama-index-core<0.12.0,>=0.11.20->llama-index) (2.18.2)\n",
      "Requirement already satisfied: charset-normalizer<4,>=2 in c:\\users\\akidra\\appdata\\roaming\\python\\python311\\site-packages (from requests>=2.31.0->llama-index-core<0.12.0,>=0.11.20->llama-index) (3.2.0)\n",
      "Requirement already satisfied: urllib3<3,>=1.21.1 in c:\\users\\akidra\\appdata\\roaming\\python\\python311\\site-packages (from requests>=2.31.0->llama-index-core<0.12.0,>=0.11.20->llama-index) (1.26.18)\n",
      "Requirement already satisfied: greenlet!=0.4.17 in c:\\users\\akidra\\appdata\\roaming\\python\\python311\\site-packages (from SQLAlchemy>=1.4.49->SQLAlchemy[asyncio]>=1.4.49->llama-index-core<0.12.0,>=0.11.20->llama-index) (3.0.3)\n",
      "Requirement already satisfied: mypy-extensions>=0.3.0 in c:\\users\\akidra\\appdata\\roaming\\python\\python311\\site-packages (from typing-inspect>=0.8.0->llama-index-core<0.12.0,>=0.11.20->llama-index) (1.0.0)\n",
      "Requirement already satisfied: marshmallow<4.0.0,>=3.18.0 in c:\\users\\akidra\\appdata\\roaming\\python\\python311\\site-packages (from dataclasses-json->llama-index-core<0.12.0,>=0.11.20->llama-index) (3.20.1)\n",
      "Requirement already satisfied: python-dateutil>=2.8.2 in c:\\users\\akidra\\appdata\\roaming\\python\\python311\\site-packages (from pandas->llama-index-legacy<0.10.0,>=0.9.48->llama-index) (2.8.2)\n",
      "Requirement already satisfied: pytz>=2020.1 in c:\\users\\akidra\\appdata\\roaming\\python\\python311\\site-packages (from pandas->llama-index-legacy<0.10.0,>=0.9.48->llama-index) (2023.3.post1)\n",
      "Requirement already satisfied: tzdata>=2022.1 in c:\\users\\akidra\\appdata\\roaming\\python\\python311\\site-packages (from pandas->llama-index-legacy<0.10.0,>=0.9.48->llama-index) (2023.3)\n",
      "Requirement already satisfied: packaging>=17.0 in c:\\users\\akidra\\appdata\\roaming\\python\\python311\\site-packages (from marshmallow<4.0.0,>=3.18.0->dataclasses-json->llama-index-core<0.12.0,>=0.11.20->llama-index) (23.2)\n",
      "Requirement already satisfied: six>=1.5 in c:\\users\\akidra\\appdata\\roaming\\python\\python311\\site-packages (from python-dateutil>=2.8.2->pandas->llama-index-legacy<0.10.0,>=0.9.48->llama-index) (1.16.0)\n",
      "Note: you may need to restart the kernel to use updated packages.\n"
     ]
    },
    {
     "name": "stderr",
     "output_type": "stream",
     "text": [
      "\n",
      "[notice] A new release of pip is available: 24.0 -> 24.3.1\n",
      "[notice] To update, run: python.exe -m pip install --upgrade pip\n"
     ]
    }
   ],
   "source": [
    "%pip install  llama-index-llms-fireworks\n",
    "%pip install llama-index"
   ]
  },
  {
   "cell_type": "code",
   "execution_count": 2,
   "id": "d6b98c24",
   "metadata": {},
   "outputs": [
    {
     "name": "stdout",
     "output_type": "stream",
     "text": [
      "Name: llama-index-llms-fireworks\n",
      "Version: 0.2.2\n",
      "Summary: llama-index llms fireworks integration\n",
      "Home-page: \n",
      "Author: benjibc\n",
      "Author-email: \n",
      "License: MIT\n",
      "Location: C:\\Users\\akidra\\AppData\\Roaming\\Python\\Python311\\site-packages\n",
      "Requires: llama-index-core, llama-index-llms-openai\n",
      "Required-by: \n"
     ]
    }
   ],
   "source": [
    "!pip show llama-index-llms-fireworks"
   ]
  },
  {
   "cell_type": "code",
   "execution_count": 3,
   "id": "6d13e973",
   "metadata": {},
   "outputs": [
    {
     "name": "stdout",
     "output_type": "stream",
     "text": [
      "Name: llama-index\n",
      "Version: 0.11.20\n",
      "Summary: Interface between LLMs and your data\n",
      "Home-page: https://llamaindex.ai\n",
      "Author: Jerry Liu\n",
      "Author-email: jerry@llamaindex.ai\n",
      "License: MIT\n",
      "Location: C:\\Users\\akidra\\AppData\\Roaming\\Python\\Python311\\site-packages\n",
      "Requires: llama-index-agent-openai, llama-index-cli, llama-index-core, llama-index-embeddings-openai, llama-index-indices-managed-llama-cloud, llama-index-legacy, llama-index-llms-openai, llama-index-multi-modal-llms-openai, llama-index-program-openai, llama-index-question-gen-openai, llama-index-readers-file, llama-index-readers-llama-parse, nltk\n",
      "Required-by: pymemgpt\n"
     ]
    }
   ],
   "source": [
    "!pip show llama-index"
   ]
  },
  {
   "cell_type": "code",
   "execution_count": 5,
   "id": "efa15cc6",
   "metadata": {},
   "outputs": [],
   "source": [
    "from llama_index.llms.fireworks import Fireworks"
   ]
  },
  {
   "cell_type": "code",
   "execution_count": 7,
   "id": "48b49ef4",
   "metadata": {},
   "outputs": [
    {
     "ename": "ImportError",
     "evalue": "cannot import name 'global_handler' from 'llama_index.core' (unknown location)",
     "output_type": "error",
     "traceback": [
      "\u001b[1;31m-----------------------------------------------------------------------\u001b[0m",
      "\u001b[1;31mImportError\u001b[0m                           Traceback (most recent call last)",
      "Cell \u001b[1;32mIn[7], line 3\u001b[0m\n\u001b[0;32m      1\u001b[0m \u001b[38;5;28;01mfrom\u001b[39;00m \u001b[38;5;21;01mllama_index\u001b[39;00m\u001b[38;5;21;01m.\u001b[39;00m\u001b[38;5;21;01mllms\u001b[39;00m\u001b[38;5;21;01m.\u001b[39;00m\u001b[38;5;21;01mfireworks\u001b[39;00m \u001b[38;5;28;01mimport\u001b[39;00m Fireworks\n\u001b[1;32m----> 3\u001b[0m llm \u001b[38;5;241m=\u001b[39m \u001b[43mFireworks\u001b[49m\u001b[43m(\u001b[49m\n\u001b[0;32m      4\u001b[0m \u001b[43m    \u001b[49m\u001b[43mmodel\u001b[49m\u001b[38;5;241;43m=\u001b[39;49m\u001b[38;5;124;43m\"\u001b[39;49m\u001b[38;5;124;43maccounts/fireworks/models/firefunction-v1\u001b[39;49m\u001b[38;5;124;43m\"\u001b[39;49m\u001b[43m,\u001b[49m\u001b[43m \u001b[49m\u001b[43mapi_key\u001b[49m\u001b[38;5;241;43m=\u001b[39;49m\u001b[38;5;124;43m\"\u001b[39;49m\u001b[38;5;124;43m\"\u001b[39;49m\n\u001b[0;32m      5\u001b[0m \u001b[43m)\u001b[49m\n\u001b[0;32m      6\u001b[0m resp \u001b[38;5;241m=\u001b[39m llm\u001b[38;5;241m.\u001b[39mcomplete(\u001b[38;5;124m\"\u001b[39m\u001b[38;5;124mPaul Graham is \u001b[39m\u001b[38;5;124m\"\u001b[39m)\n\u001b[0;32m      7\u001b[0m \u001b[38;5;28mprint\u001b[39m(resp)\n",
      "File \u001b[1;32m~\\AppData\\Roaming\\Python\\Python311\\site-packages\\llama_index\\llms\\fireworks\\base.py:57\u001b[0m, in \u001b[0;36mFireworks.__init__\u001b[1;34m(self, model, temperature, max_tokens, additional_kwargs, max_retries, api_base, api_key, callback_manager, default_headers, system_prompt, messages_to_prompt, completion_to_prompt, pydantic_program_mode, output_parser)\u001b[0m\n\u001b[0;32m     39\u001b[0m \u001b[38;5;28;01mdef\u001b[39;00m \u001b[38;5;21m__init__\u001b[39m(\n\u001b[0;32m     40\u001b[0m     \u001b[38;5;28mself\u001b[39m,\n\u001b[0;32m     41\u001b[0m     model: \u001b[38;5;28mstr\u001b[39m \u001b[38;5;241m=\u001b[39m DEFAULT_MODEL,\n\u001b[1;32m   (...)\u001b[0m\n\u001b[0;32m     54\u001b[0m     output_parser: Optional[BaseOutputParser] \u001b[38;5;241m=\u001b[39m \u001b[38;5;28;01mNone\u001b[39;00m,\n\u001b[0;32m     55\u001b[0m ) \u001b[38;5;241m-\u001b[39m\u001b[38;5;241m>\u001b[39m \u001b[38;5;28;01mNone\u001b[39;00m:\n\u001b[0;32m     56\u001b[0m     additional_kwargs \u001b[38;5;241m=\u001b[39m additional_kwargs \u001b[38;5;129;01mor\u001b[39;00m {}\n\u001b[1;32m---> 57\u001b[0m     callback_manager \u001b[38;5;241m=\u001b[39m callback_manager \u001b[38;5;129;01mor\u001b[39;00m \u001b[43mCallbackManager\u001b[49m\u001b[43m(\u001b[49m\u001b[43m[\u001b[49m\u001b[43m]\u001b[49m\u001b[43m)\u001b[49m\n\u001b[0;32m     59\u001b[0m     api_base \u001b[38;5;241m=\u001b[39m get_from_param_or_env(\u001b[38;5;124m\"\u001b[39m\u001b[38;5;124mapi_base\u001b[39m\u001b[38;5;124m\"\u001b[39m, api_base, \u001b[38;5;124m\"\u001b[39m\u001b[38;5;124mFIREWORKS_API_BASE\u001b[39m\u001b[38;5;124m\"\u001b[39m)\n\u001b[0;32m     60\u001b[0m     api_key \u001b[38;5;241m=\u001b[39m get_from_param_or_env(\u001b[38;5;124m\"\u001b[39m\u001b[38;5;124mapi_key\u001b[39m\u001b[38;5;124m\"\u001b[39m, api_key, \u001b[38;5;124m\"\u001b[39m\u001b[38;5;124mFIREWORKS_API_KEY\u001b[39m\u001b[38;5;124m\"\u001b[39m)\n",
      "File \u001b[1;32m~\\AppData\\Roaming\\Python\\Python311\\site-packages\\llama_index\\core\\callbacks\\base.py:59\u001b[0m, in \u001b[0;36mCallbackManager.__init__\u001b[1;34m(self, handlers)\u001b[0m\n\u001b[0;32m     57\u001b[0m \u001b[38;5;28;01mdef\u001b[39;00m \u001b[38;5;21m__init__\u001b[39m(\u001b[38;5;28mself\u001b[39m, handlers: Optional[List[BaseCallbackHandler]] \u001b[38;5;241m=\u001b[39m \u001b[38;5;28;01mNone\u001b[39;00m):\n\u001b[0;32m     58\u001b[0m \u001b[38;5;250m    \u001b[39m\u001b[38;5;124;03m\"\"\"Initialize the manager with a list of handlers.\"\"\"\u001b[39;00m\n\u001b[1;32m---> 59\u001b[0m     \u001b[38;5;28;01mfrom\u001b[39;00m \u001b[38;5;21;01mllama_index\u001b[39;00m\u001b[38;5;21;01m.\u001b[39;00m\u001b[38;5;21;01mcore\u001b[39;00m \u001b[38;5;28;01mimport\u001b[39;00m global_handler\n\u001b[0;32m     61\u001b[0m     handlers \u001b[38;5;241m=\u001b[39m handlers \u001b[38;5;129;01mor\u001b[39;00m []\n\u001b[0;32m     63\u001b[0m     \u001b[38;5;66;03m# add eval handlers based on global defaults\u001b[39;00m\n",
      "\u001b[1;31mImportError\u001b[0m: cannot import name 'global_handler' from 'llama_index.core' (unknown location)"
     ]
    }
   ],
   "source": [
    "from llama_index.llms.fireworks import Fireworks\n",
    "\n",
    "llm = Fireworks(\n",
    "    model=\"accounts/fireworks/models/firefunction-v1\", api_key=\"\"\n",
    ")\n",
    "resp = llm.complete(\"Paul Graham is \")\n",
    "print(resp)"
   ]
  }
 ],
 "metadata": {
  "kernelspec": {
   "display_name": "Python 3 (ipykernel)",
   "language": "python",
   "name": "python3"
  },
  "language_info": {
   "codemirror_mode": {
    "name": "ipython",
    "version": 3
   },
   "file_extension": ".py",
   "mimetype": "text/x-python",
   "name": "python",
   "nbconvert_exporter": "python",
   "pygments_lexer": "ipython3",
   "version": "3.11.2"
  }
 },
 "nbformat": 4,
 "nbformat_minor": 5
}
